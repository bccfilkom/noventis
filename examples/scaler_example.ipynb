{
 "cells": [
  {
   "cell_type": "markdown",
   "id": "9587bb3d",
   "metadata": {},
   "source": [
    "> # Import Modules"
   ]
  },
  {
   "cell_type": "code",
   "execution_count": 31,
   "id": "e513c63b",
   "metadata": {},
   "outputs": [
    {
     "name": "stdout",
     "output_type": "stream",
     "text": [
      "Successfully imported modules!\n"
     ]
    }
   ],
   "source": [
    "import sys\n",
    "import os\n",
    "import pandas as pd\n",
    "import numpy as np\n",
    "\n",
    "module_path = os.path.abspath(os.path.join('..'))\n",
    "if module_path not in sys.path:\n",
    "    sys.path.append(module_path)\n",
    "\n",
    "from noventis.data_cleaner import NoventisScaler\n",
    "print('Successfully imported modules!')"
   ]
  },
  {
   "cell_type": "markdown",
   "id": "d2dbea0e",
   "metadata": {},
   "source": [
    "> # Prepare for Data Frame"
   ]
  },
  {
   "cell_type": "code",
   "execution_count": 32,
   "id": "0aac932f",
   "metadata": {},
   "outputs": [],
   "source": [
    "df = pd.DataFrame({\n",
    "    'normal_data': np.random.normal(loc=100, scale=15, size=500),\n",
    "    'skewed_data': np.random.gamma(shape=1, scale=50, size=500)**2,\n",
    "    'data_with_outliers': np.concatenate([np.random.normal(loc=0, scale=5, size=496), np.array([-50, 50, -60, 60])]),\n",
    "    'bimodal_data': np.concatenate([np.random.normal(loc=20, scale=5, size=250), \n",
    "                                    np.random.normal(loc=80, scale=7, size=250)])\n",
    "})"
   ]
  },
  {
   "cell_type": "code",
   "execution_count": 33,
   "id": "fe50064c",
   "metadata": {},
   "outputs": [
    {
     "data": {
      "text/html": [
       "<div>\n",
       "<style scoped>\n",
       "    .dataframe tbody tr th:only-of-type {\n",
       "        vertical-align: middle;\n",
       "    }\n",
       "\n",
       "    .dataframe tbody tr th {\n",
       "        vertical-align: top;\n",
       "    }\n",
       "\n",
       "    .dataframe thead th {\n",
       "        text-align: right;\n",
       "    }\n",
       "</style>\n",
       "<table border=\"1\" class=\"dataframe\">\n",
       "  <thead>\n",
       "    <tr style=\"text-align: right;\">\n",
       "      <th></th>\n",
       "      <th>normal_data</th>\n",
       "      <th>skewed_data</th>\n",
       "      <th>data_with_outliers</th>\n",
       "      <th>bimodal_data</th>\n",
       "    </tr>\n",
       "  </thead>\n",
       "  <tbody>\n",
       "    <tr>\n",
       "      <th>0</th>\n",
       "      <td>106.136403</td>\n",
       "      <td>12295.008344</td>\n",
       "      <td>1.164478</td>\n",
       "      <td>21.029621</td>\n",
       "    </tr>\n",
       "    <tr>\n",
       "      <th>1</th>\n",
       "      <td>138.874150</td>\n",
       "      <td>1010.331835</td>\n",
       "      <td>-0.898943</td>\n",
       "      <td>22.491160</td>\n",
       "    </tr>\n",
       "    <tr>\n",
       "      <th>2</th>\n",
       "      <td>108.104553</td>\n",
       "      <td>127.879147</td>\n",
       "      <td>3.610717</td>\n",
       "      <td>18.508406</td>\n",
       "    </tr>\n",
       "    <tr>\n",
       "      <th>3</th>\n",
       "      <td>81.306715</td>\n",
       "      <td>153.833868</td>\n",
       "      <td>0.916086</td>\n",
       "      <td>8.197191</td>\n",
       "    </tr>\n",
       "    <tr>\n",
       "      <th>4</th>\n",
       "      <td>83.366994</td>\n",
       "      <td>17643.995412</td>\n",
       "      <td>-4.621082</td>\n",
       "      <td>38.755673</td>\n",
       "    </tr>\n",
       "    <tr>\n",
       "      <th>...</th>\n",
       "      <td>...</td>\n",
       "      <td>...</td>\n",
       "      <td>...</td>\n",
       "      <td>...</td>\n",
       "    </tr>\n",
       "    <tr>\n",
       "      <th>495</th>\n",
       "      <td>103.632890</td>\n",
       "      <td>322.909539</td>\n",
       "      <td>3.294457</td>\n",
       "      <td>77.394998</td>\n",
       "    </tr>\n",
       "    <tr>\n",
       "      <th>496</th>\n",
       "      <td>101.462155</td>\n",
       "      <td>1087.173702</td>\n",
       "      <td>-50.000000</td>\n",
       "      <td>76.146647</td>\n",
       "    </tr>\n",
       "    <tr>\n",
       "      <th>497</th>\n",
       "      <td>109.805239</td>\n",
       "      <td>6512.673748</td>\n",
       "      <td>50.000000</td>\n",
       "      <td>69.770786</td>\n",
       "    </tr>\n",
       "    <tr>\n",
       "      <th>498</th>\n",
       "      <td>97.898418</td>\n",
       "      <td>9109.688947</td>\n",
       "      <td>-60.000000</td>\n",
       "      <td>93.561887</td>\n",
       "    </tr>\n",
       "    <tr>\n",
       "      <th>499</th>\n",
       "      <td>110.682554</td>\n",
       "      <td>2753.085462</td>\n",
       "      <td>60.000000</td>\n",
       "      <td>73.864637</td>\n",
       "    </tr>\n",
       "  </tbody>\n",
       "</table>\n",
       "<p>500 rows × 4 columns</p>\n",
       "</div>"
      ],
      "text/plain": [
       "     normal_data   skewed_data  data_with_outliers  bimodal_data\n",
       "0     106.136403  12295.008344            1.164478     21.029621\n",
       "1     138.874150   1010.331835           -0.898943     22.491160\n",
       "2     108.104553    127.879147            3.610717     18.508406\n",
       "3      81.306715    153.833868            0.916086      8.197191\n",
       "4      83.366994  17643.995412           -4.621082     38.755673\n",
       "..           ...           ...                 ...           ...\n",
       "495   103.632890    322.909539            3.294457     77.394998\n",
       "496   101.462155   1087.173702          -50.000000     76.146647\n",
       "497   109.805239   6512.673748           50.000000     69.770786\n",
       "498    97.898418   9109.688947          -60.000000     93.561887\n",
       "499   110.682554   2753.085462           60.000000     73.864637\n",
       "\n",
       "[500 rows x 4 columns]"
      ]
     },
     "execution_count": 33,
     "metadata": {},
     "output_type": "execute_result"
    }
   ],
   "source": [
    "df"
   ]
  },
  {
   "cell_type": "markdown",
   "id": "3c3b4c7c",
   "metadata": {},
   "source": [
    "> # Automatic Scaling"
   ]
  },
  {
   "cell_type": "code",
   "execution_count": 34,
   "id": "7c4ad543",
   "metadata": {},
   "outputs": [
    {
     "name": "stdout",
     "output_type": "stream",
     "text": [
      "   - STANDARD: 2 columns\n",
      "   - POWER: 1 columns\n",
      "   - ROBUST: 1 columns\n",
      "  Column: normal_data\n",
      "     - Method: STANDARD\n",
      "     - Reason: p-value 0.416 > 0.05\n",
      "     - Skewness: 0.15 | Outlier Ratio: 0.40%\n",
      "  Column: skewed_data\n",
      "     - Method: POWER\n",
      "     - Reason: High skewness (5.05)\n",
      "     - Skewness: 5.05 | Outlier Ratio: 9.40%\n",
      "  Column: data_with_outliers\n",
      "     - Method: ROBUST\n",
      "     - Reason: Outliers (ratio: 2.0%)\n",
      "     - Skewness: 0.10 | Outlier Ratio: 2.00%\n",
      "  Column: bimodal_data\n",
      "     - Method: STANDARD\n",
      "     - Reason: Default fallback\n",
      "     - Skewness: 0.03 | Outlier Ratio: 0.00%\n",
      "============================================================\n",
      "\n",
      "Scaler chosen for each column:\n",
      "{'normal_data': 'standard', 'skewed_data': 'power', 'data_with_outliers': 'robust', 'bimodal_data': 'standard'}\n"
     ]
    }
   ],
   "source": [
    "df_auto = df.copy()\n",
    "\n",
    "scaler = NoventisScaler(method='auto', verbose=True)\n",
    "\n",
    "# Fit and transform the data\n",
    "df_scaled = scaler.fit_transform(df_auto)\n",
    "\n",
    "print(\"\\nScaler chosen for each column:\")\n",
    "print(scaler.fitted_methods_)\n"
   ]
  },
  {
   "cell_type": "code",
   "execution_count": 35,
   "id": "7d031f45",
   "metadata": {},
   "outputs": [
    {
     "name": "stdout",
     "output_type": "stream",
     "text": [
      "Data Before Scaling\n",
      "     normal_data  skewed_data  data_with_outliers  bimodal_data\n",
      "495   103.632890   322.909539            3.294457     77.394998\n",
      "496   101.462155  1087.173702          -50.000000     76.146647\n",
      "497   109.805239  6512.673748           50.000000     69.770786\n",
      "498    97.898418  9109.688947          -60.000000     93.561887\n",
      "499   110.682554  2753.085462           60.000000     73.864637\n",
      "\n",
      "Data After Scaling\n",
      "     normal_data  skewed_data  data_with_outliers  bimodal_data\n",
      "495     0.238852    -0.637540            0.447785      0.904592\n",
      "496     0.098806    -0.108387           -7.812204      0.863706\n",
      "497     0.637065     0.865359            7.686574      0.654880\n",
      "498    -0.131111     1.078046           -9.362082      1.434100\n",
      "499     0.693665     0.365149            9.236451      0.788964\n"
     ]
    }
   ],
   "source": [
    "print('Data Before Scaling')\n",
    "print(df_auto.tail(5))\n",
    "\n",
    "print('\\nData After Scaling')\n",
    "print(df_scaled.tail(5))"
   ]
  },
  {
   "cell_type": "markdown",
   "id": "6f7e2c72",
   "metadata": {},
   "source": [
    "> # Force Specific Method"
   ]
  },
  {
   "cell_type": "code",
   "execution_count": 36,
   "id": "cb34fc0b",
   "metadata": {},
   "outputs": [
    {
     "name": "stdout",
     "output_type": "stream",
     "text": [
      "\n",
      "Description of data after forcing RobustScaler on all columns:\n",
      "        normal_data  skewed_data  data_with_outliers  bimodal_data\n",
      "count  5.000000e+02   500.000000          500.000000    500.000000\n",
      "mean   3.037532e-02     0.269611           -0.009807     -0.001366\n",
      "std    7.382474e-01     0.819049            1.096530      0.519357\n",
      "min   -1.850250e+00    -0.131238           -9.362082     -0.742895\n",
      "25%   -4.746994e-01    -0.107603           -0.503521     -0.501000\n",
      "50%   -3.380542e-16     0.000000            0.000000      0.000000\n",
      "75%    5.253006e-01     0.303742            0.496479      0.499000\n",
      "max    2.935764e+00     8.391401            9.236451      0.788843\n"
     ]
    }
   ],
   "source": [
    "df_robust = df.copy()\n",
    "\n",
    "scaler_robust = NoventisScaler(method='robust')\n",
    "\n",
    "df_robust_scaled = scaler_robust.fit_transform(df_robust)\n",
    "\n",
    "print(\"\\nDescription of data after forcing RobustScaler on all columns:\")\n",
    "print(df_robust_scaled.describe())"
   ]
  },
  {
   "cell_type": "code",
   "execution_count": 37,
   "id": "7ec5d5a9",
   "metadata": {},
   "outputs": [
    {
     "name": "stdout",
     "output_type": "stream",
     "text": [
      "Data Before Scaling\n",
      "     normal_data  skewed_data  data_with_outliers  bimodal_data\n",
      "495   103.632890   322.909539            3.294457     77.394998\n",
      "496   101.462155  1087.173702          -50.000000     76.146647\n",
      "497   109.805239  6512.673748           50.000000     69.770786\n",
      "498    97.898418  9109.688947          -60.000000     93.561887\n",
      "499   110.682554  2753.085462           60.000000     73.864637\n",
      "\n",
      "Data After Scaling\n",
      "     normal_data  skewed_data  data_with_outliers  bimodal_data\n",
      "495     0.206531    -0.103696            0.447785      0.467970\n",
      "496     0.103246    -0.038509           -7.812204      0.446757\n",
      "497     0.500216     0.424250            7.686574      0.338410\n",
      "498    -0.066320     0.645759           -9.362082      0.742699\n",
      "499     0.541959     0.103582            9.236451      0.407978\n"
     ]
    }
   ],
   "source": [
    "print('Data Before Scaling')\n",
    "print(df_robust.tail(5))\n",
    "\n",
    "print('\\nData After Scaling')\n",
    "print(df_robust_scaled.tail(5))"
   ]
  },
  {
   "cell_type": "markdown",
   "id": "24c56763",
   "metadata": {},
   "source": [
    "> # Advanced Usage with custom_params"
   ]
  },
  {
   "cell_type": "code",
   "execution_count": 38,
   "id": "8e1e9b3c",
   "metadata": {},
   "outputs": [
    {
     "name": "stdout",
     "output_type": "stream",
     "text": [
      "\n",
      "Description of data after custom PowerTransformer:\n",
      "       normal_data  skewed_data  data_with_outliers  bimodal_data\n",
      "count   500.000000   500.000000          500.000000    500.000000\n",
      "mean     32.261870    12.813272            0.398567      6.474992\n",
      "std       3.584992     5.855527            7.079134      1.986187\n",
      "min      22.531380    -4.602548          -58.313792      2.345421\n",
      "25%      29.859712     8.731175           -2.822653      4.666646\n",
      "50%      32.203578    13.170830            0.405947      6.910247\n",
      "75%      34.711430    17.006268            3.639607      8.390221\n",
      "max      45.335279    30.018033           61.738515      9.046763\n"
     ]
    }
   ],
   "source": [
    "df_custom = df.copy()\n",
    "\n",
    "custom_config = {'standardize': False}\n",
    "\n",
    "scaler_custom = NoventisScaler(method='power', custom_params=custom_config)\n",
    "\n",
    "df_custom_scaled = scaler_custom.fit_transform(df_custom)\n",
    "\n",
    "print(\"\\nDescription of data after custom PowerTransformer:\")\n",
    "print(df_custom_scaled.describe())\n"
   ]
  },
  {
   "cell_type": "code",
   "execution_count": 39,
   "id": "393e521d",
   "metadata": {},
   "outputs": [
    {
     "name": "stdout",
     "output_type": "stream",
     "text": [
      "Data Before Scaling\n",
      "     normal_data  skewed_data  data_with_outliers  bimodal_data\n",
      "495   103.632890   322.909539            3.294457     77.394998\n",
      "496   101.462155  1087.173702          -50.000000     76.146647\n",
      "497   109.805239  6512.673748           50.000000     69.770786\n",
      "498    97.898418  9109.688947          -60.000000     93.561887\n",
      "499   110.682554  2753.085462           60.000000     73.864637\n",
      "\n",
      "Data After Scaling\n",
      "     normal_data  skewed_data  data_with_outliers  bimodal_data\n",
      "495    33.199679     9.083873            3.321188      8.314007\n",
      "496    32.703230    12.179243          -48.668500      8.261146\n",
      "497    34.593549    17.875336           51.370761      7.980849\n",
      "498    31.880791    19.119485          -58.313792      8.948242\n",
      "499    34.789616    14.949269           61.738515      8.162860\n"
     ]
    }
   ],
   "source": [
    "print('Data Before Scaling')\n",
    "print(df_custom.tail(5))\n",
    "\n",
    "print('\\nData After Scaling')\n",
    "print(df_custom_scaled.tail(5))"
   ]
  }
 ],
 "metadata": {
  "kernelspec": {
   "display_name": "base",
   "language": "python",
   "name": "python3"
  },
  "language_info": {
   "codemirror_mode": {
    "name": "ipython",
    "version": 3
   },
   "file_extension": ".py",
   "mimetype": "text/x-python",
   "name": "python",
   "nbconvert_exporter": "python",
   "pygments_lexer": "ipython3",
   "version": "3.9.23"
  }
 },
 "nbformat": 4,
 "nbformat_minor": 5
}
