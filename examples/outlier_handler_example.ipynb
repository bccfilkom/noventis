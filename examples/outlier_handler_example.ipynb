{
 "cells": [
  {
   "cell_type": "markdown",
   "id": "84f47e48",
   "metadata": {},
   "source": [
    "> # Import Modules"
   ]
  },
  {
   "cell_type": "code",
   "execution_count": 1,
   "id": "ab233127",
   "metadata": {},
   "outputs": [
    {
     "name": "stdout",
     "output_type": "stream",
     "text": [
      "Successfully imported modules!\n"
     ]
    }
   ],
   "source": [
    "import sys\n",
    "import os\n",
    "import pandas as pd\n",
    "import numpy as np\n",
    "\n",
    "module_path = os.path.abspath(os.path.join('..'))\n",
    "if module_path not in sys.path:\n",
    "    sys.path.append(module_path)\n",
    "\n",
    "from noventis.data_cleaner import NoventisOutlierHandler\n",
    "print('Successfully imported modules!')"
   ]
  },
  {
   "cell_type": "markdown",
   "id": "6c3000c9",
   "metadata": {},
   "source": [
    "> # Prepare for Data Frame"
   ]
  },
  {
   "cell_type": "code",
   "execution_count": 2,
   "id": "da0df315",
   "metadata": {},
   "outputs": [],
   "source": [
    "base_data = np.random.normal(loc=100, scale=20, size=500)\n",
    "outliers_A = np.array([5, 10, 250, 300, 320])\n",
    "outliers_B = np.array([-50, 150, 160, 200, 210]) \n",
    "\n",
    "df = pd.DataFrame({\n",
    "    'Feature_A': np.concatenate([base_data, outliers_A]),\n",
    "    'Feature_B': np.concatenate([np.random.normal(50, 10, 500), outliers_B])\n",
    "})"
   ]
  },
  {
   "cell_type": "code",
   "execution_count": 3,
   "id": "da69c659",
   "metadata": {},
   "outputs": [
    {
     "data": {
      "text/html": [
       "<div>\n",
       "<style scoped>\n",
       "    .dataframe tbody tr th:only-of-type {\n",
       "        vertical-align: middle;\n",
       "    }\n",
       "\n",
       "    .dataframe tbody tr th {\n",
       "        vertical-align: top;\n",
       "    }\n",
       "\n",
       "    .dataframe thead th {\n",
       "        text-align: right;\n",
       "    }\n",
       "</style>\n",
       "<table border=\"1\" class=\"dataframe\">\n",
       "  <thead>\n",
       "    <tr style=\"text-align: right;\">\n",
       "      <th></th>\n",
       "      <th>Feature_A</th>\n",
       "      <th>Feature_B</th>\n",
       "    </tr>\n",
       "  </thead>\n",
       "  <tbody>\n",
       "    <tr>\n",
       "      <th>0</th>\n",
       "      <td>81.514191</td>\n",
       "      <td>55.308657</td>\n",
       "    </tr>\n",
       "    <tr>\n",
       "      <th>1</th>\n",
       "      <td>119.620876</td>\n",
       "      <td>51.702204</td>\n",
       "    </tr>\n",
       "    <tr>\n",
       "      <th>2</th>\n",
       "      <td>71.050803</td>\n",
       "      <td>41.341307</td>\n",
       "    </tr>\n",
       "    <tr>\n",
       "      <th>3</th>\n",
       "      <td>102.766202</td>\n",
       "      <td>57.284365</td>\n",
       "    </tr>\n",
       "    <tr>\n",
       "      <th>4</th>\n",
       "      <td>114.243365</td>\n",
       "      <td>42.656732</td>\n",
       "    </tr>\n",
       "    <tr>\n",
       "      <th>...</th>\n",
       "      <td>...</td>\n",
       "      <td>...</td>\n",
       "    </tr>\n",
       "    <tr>\n",
       "      <th>500</th>\n",
       "      <td>5.000000</td>\n",
       "      <td>-50.000000</td>\n",
       "    </tr>\n",
       "    <tr>\n",
       "      <th>501</th>\n",
       "      <td>10.000000</td>\n",
       "      <td>150.000000</td>\n",
       "    </tr>\n",
       "    <tr>\n",
       "      <th>502</th>\n",
       "      <td>250.000000</td>\n",
       "      <td>160.000000</td>\n",
       "    </tr>\n",
       "    <tr>\n",
       "      <th>503</th>\n",
       "      <td>300.000000</td>\n",
       "      <td>200.000000</td>\n",
       "    </tr>\n",
       "    <tr>\n",
       "      <th>504</th>\n",
       "      <td>320.000000</td>\n",
       "      <td>210.000000</td>\n",
       "    </tr>\n",
       "  </tbody>\n",
       "</table>\n",
       "<p>505 rows × 2 columns</p>\n",
       "</div>"
      ],
      "text/plain": [
       "      Feature_A   Feature_B\n",
       "0     81.514191   55.308657\n",
       "1    119.620876   51.702204\n",
       "2     71.050803   41.341307\n",
       "3    102.766202   57.284365\n",
       "4    114.243365   42.656732\n",
       "..          ...         ...\n",
       "500    5.000000  -50.000000\n",
       "501   10.000000  150.000000\n",
       "502  250.000000  160.000000\n",
       "503  300.000000  200.000000\n",
       "504  320.000000  210.000000\n",
       "\n",
       "[505 rows x 2 columns]"
      ]
     },
     "execution_count": 3,
     "metadata": {},
     "output_type": "execute_result"
    }
   ],
   "source": [
    "df"
   ]
  },
  {
   "cell_type": "markdown",
   "id": "7e30da45",
   "metadata": {},
   "source": [
    "> # Automatic Handling"
   ]
  },
  {
   "cell_type": "code",
   "execution_count": 4,
   "id": "3059db91",
   "metadata": {},
   "outputs": [
    {
     "name": "stdout",
     "output_type": "stream",
     "text": [
      "\n",
      "📋======================= OUTLIER HANDLING SUMMARY =======================📋\n",
      "Method                    | AUTO\n",
      "Total Rows                | 505\n",
      "Rows to Remove            | 0\n",
      "Removal Percentage        | 0.00%\n",
      "========================================================================\n",
      "\n",
      "📊 Per-Column Details:\n",
      "  • Feature_A: WINSORIZE (52 outliers)\n",
      "  • Feature_B: WINSORIZE (52 outliers)\n",
      "Original shape: (505, 2)\n",
      "Cleaned shape: (505, 2)\n"
     ]
    }
   ],
   "source": [
    "df_auto = df.copy()\n",
    "\n",
    "handler = NoventisOutlierHandler(verbose=True)\n",
    "\n",
    "df_cleaned = handler.fit_transform(df_auto)\n",
    "\n",
    "print(f\"Original shape: {df_auto.shape}\")\n",
    "print(f\"Cleaned shape: {df_cleaned.shape}\")"
   ]
  },
  {
   "cell_type": "markdown",
   "id": "5747e082",
   "metadata": {},
   "source": [
    "> # Global Method (Winsorizing)"
   ]
  },
  {
   "cell_type": "code",
   "execution_count": 5,
   "id": "89572d00",
   "metadata": {},
   "outputs": [
    {
     "name": "stdout",
     "output_type": "stream",
     "text": [
      "\n",
      "📋======================= OUTLIER HANDLING SUMMARY =======================📋\n",
      "Method                    | WINSORIZE\n",
      "Total Rows                | 505\n",
      "Rows to Remove            | 0\n",
      "Removal Percentage        | 0.00%\n",
      "========================================================================\n",
      "\n",
      "📊 Per-Column Details:\n",
      "  • Feature_A: WINSORIZE (12 outliers)\n",
      "  • Feature_B: WINSORIZE (12 outliers)\n",
      "Original shape: (505, 2)\n",
      "Winsorized shape: (505, 2)\n",
      "\n",
      "Min/Max values before:\n",
      "      Feature_A  Feature_B\n",
      "min        5.0      -50.0\n",
      "max      320.0      210.0\n",
      "\n",
      "Min/Max values after:\n",
      "       Feature_A  Feature_B\n",
      "min   53.811836  24.563952\n",
      "max  150.464837  75.610304\n"
     ]
    }
   ],
   "source": [
    "df_winsor = df.copy()\n",
    "\n",
    "handler_winsorize = NoventisOutlierHandler(default_method='winsorize', quantile_range=(0.01, 0.99), verbose=True)\n",
    "\n",
    "df_winsorized = handler_winsorize.fit_transform(df_winsor)\n",
    "\n",
    "print(f\"Original shape: {df_winsor.shape}\")\n",
    "print(f\"Winsorized shape: {df_winsorized.shape}\")\n",
    "print(\"\\nMin/Max values before:\\n\", df_winsor.agg(['min', 'max']))\n",
    "print(\"\\nMin/Max values after:\\n\", df_winsorized.agg(['min', 'max']))"
   ]
  },
  {
   "cell_type": "markdown",
   "id": "215a8b72",
   "metadata": {},
   "source": [
    "> # Per-Column Custom Strategy"
   ]
  },
  {
   "cell_type": "code",
   "execution_count": 6,
   "id": "e6ca8efb",
   "metadata": {},
   "outputs": [
    {
     "name": "stdout",
     "output_type": "stream",
     "text": [
      "\n",
      "📋======================= OUTLIER HANDLING SUMMARY =======================📋\n",
      "Method                    | AUTO\n",
      "Total Rows                | 505\n",
      "Rows to Remove            | 6\n",
      "Removal Percentage        | 1.19%\n",
      "========================================================================\n",
      "\n",
      "📊 Per-Column Details:\n",
      "  • Feature_A: IQR_TRIM (6 outliers)\n",
      "  • Feature_B: WINSORIZE (52 outliers)\n",
      "Original shape: (505, 2)\n",
      "Custom handled shape: (499, 2)\n"
     ]
    }
   ],
   "source": [
    "df_cust = df.copy()\n",
    "\n",
    "method_map = {\n",
    "    'Feature_A': 'iqr_trim',    \n",
    "    'Feature_B': 'winsorize'    \n",
    "}\n",
    "\n",
    "handler_custom = NoventisOutlierHandler(feature_method_map=method_map, verbose=True)\n",
    "\n",
    "df_custom = handler_custom.fit_transform(df_cust)\n",
    "\n",
    "print(f\"Original shape: {df_cust.shape}\")\n",
    "print(f\"Custom handled shape: {df_custom.shape}\")"
   ]
  }
 ],
 "metadata": {
  "kernelspec": {
   "display_name": "noventis-dev",
   "language": "python",
   "name": "python3"
  },
  "language_info": {
   "codemirror_mode": {
    "name": "ipython",
    "version": 3
   },
   "file_extension": ".py",
   "mimetype": "text/x-python",
   "name": "python",
   "nbconvert_exporter": "python",
   "pygments_lexer": "ipython3",
   "version": "3.8.19"
  }
 },
 "nbformat": 4,
 "nbformat_minor": 5
}
