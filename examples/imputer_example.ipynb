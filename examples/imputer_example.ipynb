{
 "cells": [
  {
   "cell_type": "markdown",
   "id": "1597a0e0",
   "metadata": {},
   "source": [
    "> # Import Modules"
   ]
  },
  {
   "cell_type": "code",
   "execution_count": 1,
   "id": "6b9a53d2",
   "metadata": {},
   "outputs": [
    {
     "name": "stdout",
     "output_type": "stream",
     "text": [
      "Successfully imported modules!\n"
     ]
    }
   ],
   "source": [
    "import sys\n",
    "import os\n",
    "import pandas as pd\n",
    "import numpy as np\n",
    "\n",
    "module_path = os.path.abspath(os.path.join('..'))\n",
    "if module_path not in sys.path:\n",
    "    sys.path.append(module_path)\n",
    "\n",
    "from noventis.data_cleaner import NoventisImputer\n",
    "print('Successfully imported modules!')"
   ]
  },
  {
   "cell_type": "markdown",
   "id": "7d4533ac",
   "metadata": {},
   "source": [
    "> # Prepare for Data Frame"
   ]
  },
  {
   "cell_type": "code",
   "execution_count": 2,
   "id": "af970752",
   "metadata": {},
   "outputs": [],
   "source": [
    "df = pd.DataFrame({\n",
    "    'Age': [22, 38, 26, 35, np.nan, 28, 50, np.nan],\n",
    "    'Salary': [72000, 48000, 54000, 61000, 75000, np.nan, 83000, 45000],\n",
    "    'City': ['London', 'Paris', 'New York', np.nan, 'Tokyo', 'London', 'Paris', 'New York'],\n",
    "    'Experience': [1, 10, 3, 8, 5, 4, 20, np.nan] \n",
    "})"
   ]
  },
  {
   "cell_type": "code",
   "execution_count": 3,
   "id": "dec38dba",
   "metadata": {},
   "outputs": [
    {
     "data": {
      "text/html": [
       "<div>\n",
       "<style scoped>\n",
       "    .dataframe tbody tr th:only-of-type {\n",
       "        vertical-align: middle;\n",
       "    }\n",
       "\n",
       "    .dataframe tbody tr th {\n",
       "        vertical-align: top;\n",
       "    }\n",
       "\n",
       "    .dataframe thead th {\n",
       "        text-align: right;\n",
       "    }\n",
       "</style>\n",
       "<table border=\"1\" class=\"dataframe\">\n",
       "  <thead>\n",
       "    <tr style=\"text-align: right;\">\n",
       "      <th></th>\n",
       "      <th>Age</th>\n",
       "      <th>Salary</th>\n",
       "      <th>City</th>\n",
       "      <th>Experience</th>\n",
       "    </tr>\n",
       "  </thead>\n",
       "  <tbody>\n",
       "    <tr>\n",
       "      <th>0</th>\n",
       "      <td>22.0</td>\n",
       "      <td>72000.0</td>\n",
       "      <td>London</td>\n",
       "      <td>1.0</td>\n",
       "    </tr>\n",
       "    <tr>\n",
       "      <th>1</th>\n",
       "      <td>38.0</td>\n",
       "      <td>48000.0</td>\n",
       "      <td>Paris</td>\n",
       "      <td>10.0</td>\n",
       "    </tr>\n",
       "    <tr>\n",
       "      <th>2</th>\n",
       "      <td>26.0</td>\n",
       "      <td>54000.0</td>\n",
       "      <td>New York</td>\n",
       "      <td>3.0</td>\n",
       "    </tr>\n",
       "    <tr>\n",
       "      <th>3</th>\n",
       "      <td>35.0</td>\n",
       "      <td>61000.0</td>\n",
       "      <td>NaN</td>\n",
       "      <td>8.0</td>\n",
       "    </tr>\n",
       "    <tr>\n",
       "      <th>4</th>\n",
       "      <td>NaN</td>\n",
       "      <td>75000.0</td>\n",
       "      <td>Tokyo</td>\n",
       "      <td>5.0</td>\n",
       "    </tr>\n",
       "    <tr>\n",
       "      <th>5</th>\n",
       "      <td>28.0</td>\n",
       "      <td>NaN</td>\n",
       "      <td>London</td>\n",
       "      <td>4.0</td>\n",
       "    </tr>\n",
       "    <tr>\n",
       "      <th>6</th>\n",
       "      <td>50.0</td>\n",
       "      <td>83000.0</td>\n",
       "      <td>Paris</td>\n",
       "      <td>20.0</td>\n",
       "    </tr>\n",
       "    <tr>\n",
       "      <th>7</th>\n",
       "      <td>NaN</td>\n",
       "      <td>45000.0</td>\n",
       "      <td>New York</td>\n",
       "      <td>NaN</td>\n",
       "    </tr>\n",
       "  </tbody>\n",
       "</table>\n",
       "</div>"
      ],
      "text/plain": [
       "    Age   Salary      City  Experience\n",
       "0  22.0  72000.0    London         1.0\n",
       "1  38.0  48000.0     Paris        10.0\n",
       "2  26.0  54000.0  New York         3.0\n",
       "3  35.0  61000.0       NaN         8.0\n",
       "4   NaN  75000.0     Tokyo         5.0\n",
       "5  28.0      NaN    London         4.0\n",
       "6  50.0  83000.0     Paris        20.0\n",
       "7   NaN  45000.0  New York         NaN"
      ]
     },
     "execution_count": 3,
     "metadata": {},
     "output_type": "execute_result"
    }
   ],
   "source": [
    "df"
   ]
  },
  {
   "cell_type": "markdown",
   "id": "0524d202",
   "metadata": {},
   "source": [
    "> # Automatic Imputation (Default)"
   ]
  },
  {
   "cell_type": "code",
   "execution_count": 4,
   "id": "777446ab",
   "metadata": {},
   "outputs": [
    {
     "name": "stdout",
     "output_type": "stream",
     "text": [
      "\n",
      "📋======================= IMPUTATION SUMMARY =======================📋\n",
      "Method                    | AUTO\n",
      "Total Values Imputed      | 5\n",
      "Completion Score          | 100.00%\n",
      "====================================================================\n",
      "    Age   Salary      City  Experience\n",
      "0  22.0  72000.0    London         1.0\n",
      "1  38.0  48000.0     Paris        10.0\n",
      "2  26.0  54000.0  New York         3.0\n",
      "3  35.0  61000.0    London         8.0\n",
      "4  33.0  75000.0     Tokyo         5.0\n",
      "5  28.0  62571.0    London         4.0\n",
      "6  50.0  83000.0     Paris        20.0\n",
      "7  33.0  45000.0  New York         7.0\n"
     ]
    }
   ],
   "source": [
    "df_auto = df.copy()\n",
    "imputer = NoventisImputer(verbose=True)\n",
    "df_imputed = imputer.fit_transform(df_auto)\n",
    "print(df_imputed)"
   ]
  },
  {
   "cell_type": "markdown",
   "id": "a41372c4",
   "metadata": {},
   "source": [
    "> # Using a Global Method (KNN)"
   ]
  },
  {
   "cell_type": "code",
   "execution_count": 5,
   "id": "c49cf691",
   "metadata": {},
   "outputs": [
    {
     "name": "stdout",
     "output_type": "stream",
     "text": [
      "\n",
      "📋======================= IMPUTATION SUMMARY =======================📋\n",
      "Method                    | knn\n",
      "Total Values Imputed      | 5\n",
      "Completion Score          | 100.00%\n",
      "====================================================================\n",
      "         Age   Salary      City  Experience\n",
      "0  22.000000  72000.0    London         1.0\n",
      "1  38.000000  48000.0     Paris        10.0\n",
      "2  26.000000  54000.0  New York         3.0\n",
      "3  35.000000  61000.0    London         8.0\n",
      "4  33.333333  75000.0     Tokyo         5.0\n",
      "5  28.000000  67000.0    London         4.0\n",
      "6  50.000000  83000.0     Paris        20.0\n",
      "7  33.000000  45000.0  New York         7.0\n"
     ]
    }
   ],
   "source": [
    "df_knn = df.copy()\n",
    "imputer_knn = NoventisImputer(method='knn', n_neighbors=3, verbose=True)\n",
    "df_knn_imputed = imputer_knn.fit_transform(df_knn)\n",
    "print(df_knn_imputed)"
   ]
  },
  {
   "cell_type": "markdown",
   "id": "6dd9bd4a",
   "metadata": {},
   "source": [
    "> # Per-Column Custom Strategy"
   ]
  },
  {
   "cell_type": "code",
   "execution_count": 6,
   "id": "ba5119ed",
   "metadata": {},
   "outputs": [
    {
     "name": "stdout",
     "output_type": "stream",
     "text": [
      "\n",
      "📋======================= IMPUTATION SUMMARY =======================📋\n",
      "Method                    | CUSTOM MAP\n",
      "Total Values Imputed      | 5\n",
      "Completion Score          | 100.00%\n",
      "====================================================================\n",
      "    Age   Salary      City  Experience\n",
      "0  22.0  72000.0    London         1.0\n",
      "1  38.0  48000.0     Paris        10.0\n",
      "2  26.0  54000.0  New York         3.0\n",
      "3  35.0  61000.0    London         8.0\n",
      "4  31.5  75000.0     Tokyo         5.0\n",
      "5  28.0  62571.0    London         4.0\n",
      "6  50.0  83000.0     Paris        20.0\n",
      "7  31.5  45000.0  New York         0.0\n"
     ]
    }
   ],
   "source": [
    "df_custom = df.copy()\n",
    "\n",
    "custom_methods = {\n",
    "    'Age': 'median',\n",
    "    'Salary': 'mean',\n",
    "    'City': 'mode',\n",
    "    'Experience': 'constant'\n",
    "}\n",
    "imputer_custom = NoventisImputer(method=custom_methods, fill_value=0, verbose=True)\n",
    "df_custom_imputed = imputer_custom.fit_transform(df_custom)\n",
    "print(df_custom_imputed)"
   ]
  }
 ],
 "metadata": {
  "kernelspec": {
   "display_name": "base",
   "language": "python",
   "name": "python3"
  },
  "language_info": {
   "codemirror_mode": {
    "name": "ipython",
    "version": 3
   },
   "file_extension": ".py",
   "mimetype": "text/x-python",
   "name": "python",
   "nbconvert_exporter": "python",
   "pygments_lexer": "ipython3",
   "version": "3.9.23"
  }
 },
 "nbformat": 4,
 "nbformat_minor": 5
}
