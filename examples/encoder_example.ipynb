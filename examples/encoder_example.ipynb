{
 "cells": [
  {
   "cell_type": "markdown",
   "id": "dde56d5d",
   "metadata": {},
   "source": [
    "> # Import Modules"
   ]
  },
  {
   "cell_type": "code",
   "execution_count": 3,
   "id": "cf598b36",
   "metadata": {},
   "outputs": [
    {
     "name": "stdout",
     "output_type": "stream",
     "text": [
      "Successfully imported modules!\n"
     ]
    }
   ],
   "source": [
    "import sys\n",
    "import os\n",
    "import pandas as pd\n",
    "import numpy as np\n",
    "\n",
    "module_path = os.path.abspath(os.path.join('..'))\n",
    "if module_path not in sys.path:\n",
    "    sys.path.append(module_path)\n",
    "\n",
    "from noventis.data_cleaner import NoventisEncoder\n",
    "print('Successfully imported modules!')"
   ]
  },
  {
   "cell_type": "markdown",
   "id": "dd277b29",
   "metadata": {},
   "source": [
    "> # Prepare for Data Frame"
   ]
  },
  {
   "cell_type": "code",
   "execution_count": 4,
   "id": "d6e59696",
   "metadata": {},
   "outputs": [],
   "source": [
    "data = {\n",
    "    'Country': ['USA', 'UK', 'Canada', 'USA', 'Germany', 'UK', 'USA', 'France', 'Canada', 'Germany'],\n",
    "    'Education': ['Bachelors', 'Masters', 'PhD', 'Bachelors', 'Masters', 'Bachelors', 'PhD', 'Masters', 'Masters', 'Bachelors'],\n",
    "    'Size': ['Medium', 'Small', 'Large', 'Medium', 'Large', 'Small', 'Medium', 'Large', 'Medium', 'Small'],\n",
    "    'Has_Pet': ['Yes', 'No', 'No', 'Yes', 'Yes', 'No', 'Yes', 'No', 'Yes', 'No'],\n",
    "    'Target': [1, 0, 0, 1, 0, 0, 1, 0, 1, 1]\n",
    "}\n",
    "df = pd.DataFrame(data)"
   ]
  },
  {
   "cell_type": "markdown",
   "id": "116765fb",
   "metadata": {},
   "source": [
    "> # Automatic Encoding (Recommended)"
   ]
  },
  {
   "cell_type": "code",
   "execution_count": 5,
   "id": "dbf035ed",
   "metadata": {},
   "outputs": [
    {
     "name": "stdout",
     "output_type": "stream",
     "text": [
      "============================================================\n",
      "🚀 NOVENTIS ENCODER - ANALYSIS REPORT\n",
      "============================================================\n",
      "📊 Analyzed 4 categorical columns\n",
      "\n",
      "⚠️  MANUAL INTERVENTION RECOMMENDED for 'Country':\n",
      "   - High correlation with target (0.418)\n",
      "   - Consider using ordinal encoding with proper ordering\n",
      "   - Sample values: ['USA', 'UK', 'Canada']\n",
      "   - Falling back to target encoding for now\n",
      "\n",
      "⚠️  MANUAL INTERVENTION RECOMMENDED for 'Size':\n",
      "   - High correlation with target (0.758)\n",
      "   - Consider using ordinal encoding with proper ordering\n",
      "   - Sample values: ['Medium', 'Small', 'Large']\n",
      "   - Falling back to target encoding for now\n",
      "\n",
      "\n",
      "📋 ENCODING SUMMARY\n",
      "----------------------------------------\n",
      "   TARGET: 2 columns\n",
      "   OHE: 1 columns\n",
      "   LABEL: 1 columns\n",
      "\n",
      "📊 DETAILED COLUMN ANALYSIS\n",
      "----------------------------------------\n",
      "   Country:\n",
      "      Method: TARGET\n",
      "      Unique values: 5\n",
      "      Target correlation: 0.418\n",
      "\n",
      "   Education:\n",
      "      Method: OHE\n",
      "      Unique values: 3\n",
      "      Target correlation: 0.000\n",
      "      Memory impact: 0.0 MB\n",
      "\n",
      "   Size:\n",
      "      Method: TARGET\n",
      "      Unique values: 3\n",
      "      Target correlation: 0.758\n",
      "\n",
      "   Has_Pet:\n",
      "      Method: LABEL\n",
      "      Unique values: 2\n",
      "      Target correlation: 0.235\n",
      "\n",
      "============================================================\n",
      "🔄 Transforming data...\n",
      "✅ Successfully transformed 3 columns\n",
      "\n",
      "Transformed DataFrame Head:\n",
      "   Country_target_encoded  Education_Bachelors  Education_Masters  \\\n",
      "0                     1.0                  1.0                0.0   \n",
      "1                     0.0                  0.0                1.0   \n",
      "2                     0.5                  0.0                0.0   \n",
      "3                     1.0                  1.0                0.0   \n",
      "4                     0.5                  0.0                1.0   \n",
      "\n",
      "   Education_PhD  Size_target_encoded  Has_Pet_encoded  \n",
      "0            0.0             1.000000                1  \n",
      "1            0.0             0.371429                0  \n",
      "2            1.0             0.000000                0  \n",
      "3            0.0             1.000000                1  \n",
      "4            0.0             0.000000                1  \n"
     ]
    }
   ],
   "source": [
    "df_auto = df.copy()\n",
    "y_auto = df_auto['Target']\n",
    "X_auto = df_auto.drop('Target', axis=1)\n",
    "\n",
    "encoder_auto = NoventisEncoder(method='auto', target_column='Target', verbose=True)\n",
    "\n",
    "df_encoded_auto = encoder_auto.fit_transform(X_auto, y_auto)\n",
    "\n",
    "print(\"\\nTransformed DataFrame Head:\")\n",
    "print(df_encoded_auto.head())"
   ]
  },
  {
   "cell_type": "markdown",
   "id": "50bde2e2",
   "metadata": {},
   "source": [
    "> # Manual Ordinal Encoding"
   ]
  },
  {
   "cell_type": "code",
   "execution_count": 6,
   "id": "7a7b4706",
   "metadata": {},
   "outputs": [
    {
     "name": "stdout",
     "output_type": "stream",
     "text": [
      "   Size_ordinal_encoded\n",
      "0                     2\n",
      "1                     1\n",
      "2                     3\n",
      "3                     2\n",
      "4                     3\n"
     ]
    }
   ],
   "source": [
    "df_ordinal = df.copy()\n",
    "y_ordinal = df_ordinal['Target']\n",
    "X_ordinal = df_ordinal.drop('Target', axis=1)\n",
    "\n",
    "size_mapping = {\n",
    "    'Size': {'Small': 1, 'Medium': 2, 'Large': 3}\n",
    "}\n",
    "\n",
    "encoder_ordinal = NoventisEncoder(method='ordinal', columns_to_encode=['Size'], category_mapping=size_mapping)\n",
    "\n",
    "df_encoded_ordinal = encoder_ordinal.fit_transform(X_ordinal)\n",
    "print(df_encoded_ordinal[['Size_ordinal_encoded']].head())"
   ]
  },
  {
   "cell_type": "markdown",
   "id": "40ba7508",
   "metadata": {},
   "source": [
    "> # Manual Target Encoding"
   ]
  },
  {
   "cell_type": "code",
   "execution_count": 8,
   "id": "578ab3e8",
   "metadata": {},
   "outputs": [
    {
     "name": "stdout",
     "output_type": "stream",
     "text": [
      "   Country_target_encoded\n",
      "0                     1.0\n",
      "1                     0.0\n",
      "2                     0.5\n",
      "3                     1.0\n",
      "4                     0.5\n"
     ]
    }
   ],
   "source": [
    "df_target = df.copy()\n",
    "y_target = df_target['Target']\n",
    "X_target = df_target.drop('Target', axis=1)\n",
    "\n",
    "encoder_target = NoventisEncoder(method='target', columns_to_encode=['Country'], target_column='Target', cv=3) \n",
    "\n",
    "df_encoded_target = encoder_target.fit_transform(X_target, y_target)\n",
    "print(df_encoded_target[['Country_target_encoded']].head())"
   ]
  }
 ],
 "metadata": {
  "kernelspec": {
   "display_name": "base",
   "language": "python",
   "name": "python3"
  },
  "language_info": {
   "codemirror_mode": {
    "name": "ipython",
    "version": 3
   },
   "file_extension": ".py",
   "mimetype": "text/x-python",
   "name": "python",
   "nbconvert_exporter": "python",
   "pygments_lexer": "ipython3",
   "version": "3.9.23"
  }
 },
 "nbformat": 4,
 "nbformat_minor": 5
}
